{
 "cells": [
  {
   "cell_type": "code",
   "execution_count": 13,
   "id": "0a6d9aaf-7343-46e7-b9be-c392c91820e1",
   "metadata": {},
   "outputs": [
    {
     "name": "stdout",
     "output_type": "stream",
     "text": [
      "Requirement already satisfied: numpy in c:\\users\\naama\\anaconda3\\lib\\site-packages (1.26.4)\n"
     ]
    }
   ],
   "source": [
    "\\\n",
    "!pip install numpy\n",
    "\n"
   ]
  },
  {
   "cell_type": "code",
   "execution_count": 27,
   "id": "26327aa7-adc5-407c-9e8d-a76653320c96",
   "metadata": {},
   "outputs": [
    {
     "name": "stdout",
     "output_type": "stream",
     "text": [
      "[np.int64(0), np.int64(1), np.int64(2), np.int64(3), np.int64(4), np.int64(5), np.int64(6), np.int64(7), np.int64(8), np.int64(9)]\n"
     ]
    }
   ],
   "source": [
    "import numpy as np\n",
    "\n",
    "Ty=list(np.arange(10))\n",
    "print(Ty)"
   ]
  },
  {
   "cell_type": "code",
   "execution_count": 33,
   "id": "a1e1f76d-9b53-48ac-9911-8609aca21e65",
   "metadata": {},
   "outputs": [
    {
     "data": {
      "text/plain": [
       "array([1, 2, 3, 4, 5, 6, 7, 8, 9])"
      ]
     },
     "execution_count": 33,
     "metadata": {},
     "output_type": "execute_result"
    }
   ],
   "source": [
    "#1\n",
    "#a\n",
    "np.arange(1,10)\n"
   ]
  },
  {
   "cell_type": "code",
   "execution_count": 35,
   "id": "eb2f83ff-59a6-439e-8fb6-26256efc76e7",
   "metadata": {},
   "outputs": [
    {
     "data": {
      "text/plain": [
       "array([0.5 , 0.75, 1.  , 1.25, 1.5 , 1.75, 2.  , 2.25, 2.5 , 2.75, 3.  ,\n",
       "       3.25, 3.5 , 3.75, 4.  , 4.25, 4.5 , 4.75])"
      ]
     },
     "execution_count": 35,
     "metadata": {},
     "output_type": "execute_result"
    }
   ],
   "source": [
    "#1\n",
    "#b\n",
    "np.arange(0.5,5,0.25)"
   ]
  },
  {
   "cell_type": "code",
   "execution_count": 39,
   "id": "6eaefc38-4981-42c4-834c-f058f14d8b35",
   "metadata": {},
   "outputs": [
    {
     "name": "stdout",
     "output_type": "stream",
     "text": [
      "[0. 0. 0. 0. 0. 0. 0. 0. 0. 0.]\n"
     ]
    },
    {
     "data": {
      "text/plain": [
       "array([[0., 0., 0., 0.],\n",
       "       [0., 0., 0., 0.],\n",
       "       [0., 0., 0., 0.]])"
      ]
     },
     "execution_count": 39,
     "metadata": {},
     "output_type": "execute_result"
    }
   ],
   "source": [
    "# 2\n",
    "#a\n",
    "print(np.zeros(10))\n",
    "\n",
    "# b\n",
    "ar= np.zeros(12)\n",
    "np.reshape(ar, (3, 4))\n"
   ]
  },
  {
   "cell_type": "code",
   "execution_count": 43,
   "id": "ebed16af-ca00-4689-b74b-79510e0c2afc",
   "metadata": {},
   "outputs": [
    {
     "name": "stdout",
     "output_type": "stream",
     "text": [
      "[ 2  4  7  9 12]\n",
      "[3 5 7 9]\n"
     ]
    }
   ],
   "source": [
    "# 3\n",
    "#a\n",
    "print(np.linspace(2, 12, 5, dtype=int)) \n",
    "\n",
    "# b\n",
    "print(np.linspace(3, 9, 4, dtype=int)) "
   ]
  },
  {
   "cell_type": "code",
   "execution_count": 13,
   "id": "32109707-ea0c-4258-96c8-6601398a8d5f",
   "metadata": {},
   "outputs": [
    {
     "data": {
      "text/plain": [
       "array([[4, 5, 8],\n",
       "       [5, 7, 7],\n",
       "       [6, 3, 7]])"
      ]
     },
     "execution_count": 13,
     "metadata": {},
     "output_type": "execute_result"
    }
   ],
   "source": [
    "# 4\n",
    "#a\n",
    "ae=np.random.rand(4, 2)\n",
    "\n",
    "#b\n",
    "import numpy as np\n",
    "\n",
    "(np.random.rand(3, 3) * 10).astype(int)\n",
    "\n",
    "\n"
   ]
  },
  {
   "cell_type": "code",
   "execution_count": 15,
   "id": "74b3b922-ffc2-43d2-95c0-2fdf3321570a",
   "metadata": {},
   "outputs": [
    {
     "name": "stdout",
     "output_type": "stream",
     "text": [
      "[[0.66557765 0.80652825 0.73193037 0.50187579 0.87940397 0.33898041\n",
      "  0.11541868 0.71747082]]\n"
     ]
    }
   ],
   "source": [
    "aq=np.reshape(ae, (1, 8))\n",
    "print(aq)\n",
    "# חשוב להשים לב שבפעולת  reshape ! המספר הכולל של האיברים לפני ואחרי ה־reshape  חייב להיות זהה.\n",
    "#אם לא היו מספרים תואמים נקבל שגיאה.\n"
   ]
  },
  {
   "cell_type": "code",
   "execution_count": null,
   "id": "2889a2cb-3186-420b-adca-fc06d8691a83",
   "metadata": {},
   "outputs": [],
   "source": [
    "# 5\n",
    "# אם נגריל  מספריים אקראים על מספר אחד נתון כל מי שיעשה את אותה פעולה יקבל את אותה  תשובה בגלל שפעולה הזו עובדת על אלגוריתם מטמטי\n",
    "# היתרון שכל אחד יעשה את הפעולה הזו יקבל את אותה הרצה אם רוצים לעבוד יחד על אותו נתון לדוגמא."
   ]
  }
 ],
 "metadata": {
  "kernelspec": {
   "display_name": "Python 3 (ipykernel)",
   "language": "python",
   "name": "python3"
  },
  "language_info": {
   "codemirror_mode": {
    "name": "ipython",
    "version": 3
   },
   "file_extension": ".py",
   "mimetype": "text/x-python",
   "name": "python",
   "nbconvert_exporter": "python",
   "pygments_lexer": "ipython3",
   "version": "3.13.0"
  }
 },
 "nbformat": 4,
 "nbformat_minor": 5
}
